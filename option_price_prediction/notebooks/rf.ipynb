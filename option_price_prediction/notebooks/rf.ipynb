{
 "cells": [
  {
   "cell_type": "markdown",
   "metadata": {},
   "source": [
    "# RF model hypertuning"
   ]
  },
  {
   "cell_type": "code",
   "execution_count": 20,
   "metadata": {},
   "outputs": [],
   "source": [
    "import os\n",
    "import pickle\n",
    "\n",
    "import optuna\n",
    "import pandas as pd\n",
    "from sklearn.ensemble import RandomForestRegressor\n",
    "from sklearn.metrics import mean_squared_error"
   ]
  },
  {
   "cell_type": "code",
   "execution_count": 12,
   "metadata": {},
   "outputs": [],
   "source": [
    "train = pd.read_parquet(os.path.join(\"..\", \"data\", \"processed\",  \"train.parquet\"))\n",
    "test = pd.read_parquet(os.path.join(\"..\", \"data\", \"processed\",  \"test.parquet\"))\n",
    "\n",
    "train_x = train.drop(['y'], axis=1)\n",
    "train_y = train['y']\n",
    "\n",
    "test_x = test.drop(['y'], axis=1)\n",
    "test_y = test['y']"
   ]
  },
  {
   "cell_type": "code",
   "execution_count": 17,
   "metadata": {},
   "outputs": [
    {
     "name": "stderr",
     "output_type": "stream",
     "text": [
      "[I 2024-01-06 18:02:46,723] A new study created in memory with name: no-name-0d76e39c-7e83-4343-ac19-495108269467\n",
      "[I 2024-01-06 18:02:52,695] Trial 0 finished with value: 12.448020558657987 and parameters: {'n_estimators': 31, 'max_depth': 9, 'min_samples_leaf': 6, 'max_features': 0.4348574083145218, 'max_samples': 0.45384934547367045}. Best is trial 0 with value: 12.448020558657987.\n",
      "[I 2024-01-06 18:03:11,390] Trial 1 finished with value: 15.482572276359763 and parameters: {'n_estimators': 84, 'max_depth': 8, 'min_samples_leaf': 5, 'max_features': 0.5834013752107793, 'max_samples': 0.5859306411372476}. Best is trial 0 with value: 12.448020558657987.\n",
      "[I 2024-01-06 18:03:14,835] Trial 2 finished with value: 71.36780243114896 and parameters: {'n_estimators': 95, 'max_depth': 3, 'min_samples_leaf': 5, 'max_features': 0.16438176384943645, 'max_samples': 0.337373550520426}. Best is trial 0 with value: 12.448020558657987.\n",
      "[I 2024-01-06 18:03:41,703] Trial 3 finished with value: 9.098725447203964 and parameters: {'n_estimators': 71, 'max_depth': 9, 'min_samples_leaf': 1, 'max_features': 0.8903169114276838, 'max_samples': 0.45916982178095433}. Best is trial 3 with value: 9.098725447203964.\n",
      "[I 2024-01-06 18:03:51,425] Trial 4 finished with value: 11.886565841244314 and parameters: {'n_estimators': 56, 'max_depth': 9, 'min_samples_leaf': 5, 'max_features': 0.45096800576620333, 'max_samples': 0.3897807331053919}. Best is trial 3 with value: 9.098725447203964.\n",
      "[I 2024-01-06 18:03:54,665] Trial 5 finished with value: 41.58702301171141 and parameters: {'n_estimators': 28, 'max_depth': 7, 'min_samples_leaf': 1, 'max_features': 0.35547855969397685, 'max_samples': 0.6762062529807544}. Best is trial 3 with value: 9.098725447203964.\n",
      "[I 2024-01-06 18:03:57,468] Trial 6 finished with value: 54.73244747313011 and parameters: {'n_estimators': 46, 'max_depth': 5, 'min_samples_leaf': 2, 'max_features': 0.1831101511581375, 'max_samples': 0.3708995934546841}. Best is trial 3 with value: 9.098725447203964.\n",
      "[I 2024-01-06 18:03:59,994] Trial 7 finished with value: 70.34984099805992 and parameters: {'n_estimators': 61, 'max_depth': 3, 'min_samples_leaf': 4, 'max_features': 0.3463234262428345, 'max_samples': 0.4379660031223779}. Best is trial 3 with value: 9.098725447203964.\n",
      "[I 2024-01-06 18:04:36,872] Trial 8 finished with value: 15.383874666817468 and parameters: {'n_estimators': 80, 'max_depth': 7, 'min_samples_leaf': 4, 'max_features': 0.8589507987120655, 'max_samples': 0.8528674397687936}. Best is trial 3 with value: 9.098725447203964.\n",
      "[I 2024-01-06 18:04:40,828] Trial 9 finished with value: 63.38095564343575 and parameters: {'n_estimators': 49, 'max_depth': 4, 'min_samples_leaf': 2, 'max_features': 0.24774816927947088, 'max_samples': 0.8316135719560247}. Best is trial 3 with value: 9.098725447203964.\n",
      "[I 2024-01-06 18:05:11,569] Trial 10 finished with value: 7.237949376918091 and parameters: {'n_estimators': 70, 'max_depth': 10, 'min_samples_leaf': 1, 'max_features': 0.889310966117958, 'max_samples': 0.5408323464618863}. Best is trial 10 with value: 7.237949376918091.\n",
      "[I 2024-01-06 18:05:43,979] Trial 11 finished with value: 7.241964558009107 and parameters: {'n_estimators': 70, 'max_depth': 10, 'min_samples_leaf': 1, 'max_features': 0.8834284980789738, 'max_samples': 0.5569604869153163}. Best is trial 10 with value: 7.237949376918091.\n",
      "[I 2024-01-06 18:06:10,075] Trial 12 finished with value: 7.010889013322129 and parameters: {'n_estimators': 70, 'max_depth': 10, 'min_samples_leaf': 2, 'max_features': 0.7225583058434091, 'max_samples': 0.6173629047200239}. Best is trial 12 with value: 7.010889013322129.\n",
      "[I 2024-01-06 18:06:49,900] Trial 13 finished with value: 6.995139150255578 and parameters: {'n_estimators': 98, 'max_depth': 10, 'min_samples_leaf': 2, 'max_features': 0.7087167209587686, 'max_samples': 0.7001666096470258}. Best is trial 13 with value: 6.995139150255578.\n",
      "[I 2024-01-06 18:07:16,945] Trial 14 finished with value: 19.011454578535314 and parameters: {'n_estimators': 100, 'max_depth': 6, 'min_samples_leaf': 3, 'max_features': 0.6953753229678574, 'max_samples': 0.7144710588909815}. Best is trial 13 with value: 6.995139150255578.\n"
     ]
    }
   ],
   "source": [
    "def objective(trial):\n",
    "\n",
    "    rf = RandomForestRegressor(\n",
    "        n_estimators=trial.suggest_int('n_estimators', 20, 100),\n",
    "        max_depth=trial.suggest_int('max_depth', 2, 10),\n",
    "        min_samples_leaf=trial.suggest_int('min_samples_leaf', 1, 6),\n",
    "        max_features = trial.suggest_float('max_features', 0.15, .9),\n",
    "        max_samples = trial.suggest_float('max_samples', 0.3, 0.9),\n",
    "        random_state=0\n",
    "    )\n",
    "    rf.fit(train_x, train_y)\n",
    "    pred_train = rf.predict(test_x)\n",
    "    score = mean_squared_error(test_y, pred_train, squared=False)\n",
    "    return score\n",
    "\n",
    "study = optuna.create_study(direction=\"minimize\")\n",
    "\n",
    "study.optimize(objective, n_trials=15)"
   ]
  },
  {
   "cell_type": "code",
   "execution_count": 18,
   "metadata": {},
   "outputs": [
    {
     "name": "stdout",
     "output_type": "stream",
     "text": [
      "{'n_estimators': 98, 'max_depth': 10, 'min_samples_leaf': 2, 'max_features': 0.7087167209587686, 'max_samples': 0.7001666096470258}\n"
     ]
    }
   ],
   "source": [
    "print(study.best_params)"
   ]
  },
  {
   "cell_type": "code",
   "execution_count": 21,
   "metadata": {},
   "outputs": [],
   "source": [
    "rf = RandomForestRegressor(\n",
    "    n_estimators=study.best_params['n_estimators'],\n",
    "    max_depth=study.best_params['max_depth'],\n",
    "    min_samples_leaf=study.best_params['min_samples_leaf'],\n",
    "    max_features=study.best_params['max_features'],\n",
    "    max_samples=study.best_params['max_samples'],\n",
    "    random_state=0\n",
    ")\n",
    "\n",
    "rf.fit(train_x, train_y)\n",
    "\n",
    "with open(os.path.join(\"..\", \"models\", \"rf.pkl\"), \"wb\") as f:\n",
    "    pickle.dump(rf, f)"
   ]
  }
 ],
 "metadata": {
  "kernelspec": {
   "display_name": "dl",
   "language": "python",
   "name": "python3"
  },
  "language_info": {
   "codemirror_mode": {
    "name": "ipython",
    "version": 3
   },
   "file_extension": ".py",
   "mimetype": "text/x-python",
   "name": "python",
   "nbconvert_exporter": "python",
   "pygments_lexer": "ipython3",
   "version": "3.10.13"
  }
 },
 "nbformat": 4,
 "nbformat_minor": 2
}
